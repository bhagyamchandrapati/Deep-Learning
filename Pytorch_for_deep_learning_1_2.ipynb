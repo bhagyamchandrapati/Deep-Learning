{
  "nbformat": 4,
  "nbformat_minor": 0,
  "metadata": {
    "colab": {
      "provenance": [],
      "authorship_tag": "ABX9TyNgu+18ocYYG7eKRUajE4oo"
    },
    "kernelspec": {
      "name": "python3",
      "display_name": "Python 3"
    },
    "language_info": {
      "name": "python"
    }
  },
  "cells": [
    {
      "cell_type": "code",
      "execution_count": 51,
      "metadata": {
        "id": "Av1iNSCmMdIi"
      },
      "outputs": [],
      "source": [
        "import torch\n",
        "from torch import tensor\n",
        "import torchvision\n",
        "from torchvision import transforms\n",
        "import PIL\n"
      ]
    },
    {
      "cell_type": "code",
      "source": [
        "torch.randint(1,7,(2,2),dtype=torch.int32)\n",
        "#torch.zeros(2,2,dtype=torch.int32)"
      ],
      "metadata": {
        "colab": {
          "base_uri": "https://localhost:8080/"
        },
        "id": "RgSdn-elMuBM",
        "outputId": "b84d2217-4c81-497f-84b7-d429099099a5"
      },
      "execution_count": 52,
      "outputs": [
        {
          "output_type": "execute_result",
          "data": {
            "text/plain": [
              "tensor([[4, 5],\n",
              "        [6, 5]], dtype=torch.int32)"
            ]
          },
          "metadata": {},
          "execution_count": 52
        }
      ]
    },
    {
      "cell_type": "code",
      "source": [
        "def to_shape(tensor, *shape):\n",
        "  return tensor.reshape(*shape)"
      ],
      "metadata": {
        "id": "g_7fgXBIMuCd"
      },
      "execution_count": 53,
      "outputs": []
    },
    {
      "cell_type": "code",
      "source": [
        "# Example usage:\n",
        "flat_tensor = torch.rand(12)\n",
        "viewed_tensor = flat_tensor.view(3, 2, 2)\n",
        "\n",
        "# Reshape using to_shape()\n",
        "reshaped_tensor = to_shape(viewed_tensor, 2, 3, 2)\n",
        "print(reshaped_tensor)"
      ],
      "metadata": {
        "colab": {
          "base_uri": "https://localhost:8080/"
        },
        "id": "cWLiloKrQaql",
        "outputId": "8f4a94ac-7dc3-420f-fe4f-e6c3338487f5"
      },
      "execution_count": 54,
      "outputs": [
        {
          "output_type": "stream",
          "name": "stdout",
          "text": [
            "tensor([[[0.8832, 0.1076],\n",
            "         [0.6367, 0.4717],\n",
            "         [0.4357, 0.3110]],\n",
            "\n",
            "        [[0.2429, 0.0963],\n",
            "         [0.4531, 0.4013],\n",
            "         [0.0834, 0.4709]]])\n"
          ]
        }
      ]
    },
    {
      "cell_type": "code",
      "source": [
        "torch.__version__"
      ],
      "metadata": {
        "colab": {
          "base_uri": "https://localhost:8080/",
          "height": 36
        },
        "id": "DeaShkziQar2",
        "outputId": "df023818-531a-457a-868f-55fe2bd3e878"
      },
      "execution_count": 55,
      "outputs": [
        {
          "output_type": "execute_result",
          "data": {
            "text/plain": [
              "'2.5.1+cu124'"
            ],
            "application/vnd.google.colaboratory.intrinsic+json": {
              "type": "string"
            }
          },
          "metadata": {},
          "execution_count": 55
        }
      ]
    },
    {
      "cell_type": "code",
      "source": [
        "torch.cuda.is_available()"
      ],
      "metadata": {
        "id": "IWKdjRJQMuIT",
        "colab": {
          "base_uri": "https://localhost:8080/"
        },
        "outputId": "eda65517-b441-4939-8905-ff5bb9973114"
      },
      "execution_count": 56,
      "outputs": [
        {
          "output_type": "execute_result",
          "data": {
            "text/plain": [
              "False"
            ]
          },
          "metadata": {},
          "execution_count": 56
        }
      ]
    },
    {
      "cell_type": "code",
      "source": [
        "# if torch.cuda.is_available():\n",
        "#     device = torch.device(\"cuda\")\n",
        "# else:\n",
        "#     device = torch.device(\"cpu\")\n",
        "\n",
        "# print(device)\n",
        "# print(type(device))\n",
        "# print(type(viewed_tensor))\n",
        "\n",
        "if torch.cuda.is_available():\n",
        "    device = \"cuda\"\n",
        "else:\n",
        "    device = \"cpu\"\n",
        "print(type(device))\n",
        "tensor = torch.randn(3, 3)\n",
        "tensor=tensor.to(torch.device(device))\n",
        "print(type(tensor))"
      ],
      "metadata": {
        "id": "a3ljU0JGMuJ1",
        "colab": {
          "base_uri": "https://localhost:8080/"
        },
        "outputId": "d49c6387-8e5f-4e57-b053-827e2b914985"
      },
      "execution_count": 57,
      "outputs": [
        {
          "output_type": "stream",
          "name": "stdout",
          "text": [
            "<class 'str'>\n",
            "<class 'torch.Tensor'>\n"
          ]
        }
      ]
    },
    {
      "cell_type": "code",
      "source": [
        "scalar=torch.tensor(7)"
      ],
      "metadata": {
        "id": "oHHGBu3iT0Je"
      },
      "execution_count": 60,
      "outputs": []
    },
    {
      "cell_type": "code",
      "source": [
        "print(scalar)"
      ],
      "metadata": {
        "colab": {
          "base_uri": "https://localhost:8080/"
        },
        "id": "Dzg9SLxOT0Kn",
        "outputId": "5e49a5cb-b3bd-4d8a-de04-6e9ad523751d"
      },
      "execution_count": 61,
      "outputs": [
        {
          "output_type": "stream",
          "name": "stdout",
          "text": [
            "tensor(7)\n"
          ]
        }
      ]
    },
    {
      "cell_type": "code",
      "source": [
        "print(scalar.item())"
      ],
      "metadata": {
        "colab": {
          "base_uri": "https://localhost:8080/"
        },
        "id": "01hYJPhxT0RB",
        "outputId": "21ef7fde-646a-4bc0-fcaa-e0fdb254904d"
      },
      "execution_count": 62,
      "outputs": [
        {
          "output_type": "stream",
          "name": "stdout",
          "text": [
            "7\n"
          ]
        }
      ]
    },
    {
      "cell_type": "code",
      "source": [
        "print(scalar.ndim)"
      ],
      "metadata": {
        "colab": {
          "base_uri": "https://localhost:8080/"
        },
        "id": "FfP_zCV2T0SU",
        "outputId": "567105e5-9aff-4d87-90cf-11abe3d44337"
      },
      "execution_count": 64,
      "outputs": [
        {
          "output_type": "stream",
          "name": "stdout",
          "text": [
            "0\n"
          ]
        }
      ]
    },
    {
      "cell_type": "code",
      "source": [
        "# Create a tensor of all zeros\n",
        "zeros = torch.zeros(size=(3, 4))\n",
        "zeros, zeros.dtype\n",
        "zeros = torch.zeros(3,4)\n",
        "print(zeros)"
      ],
      "metadata": {
        "colab": {
          "base_uri": "https://localhost:8080/"
        },
        "id": "FMffKKeET0Yl",
        "outputId": "1174cb34-b763-4242-890c-03ab7d234cee"
      },
      "execution_count": 68,
      "outputs": [
        {
          "output_type": "stream",
          "name": "stdout",
          "text": [
            "tensor([[0., 0., 0., 0.],\n",
            "        [0., 0., 0., 0.],\n",
            "        [0., 0., 0., 0.]])\n"
          ]
        }
      ]
    },
    {
      "cell_type": "code",
      "source": [
        "ones = torch.ones(size=(3, 4),dtype=torch.int32)\n",
        "print(ones)"
      ],
      "metadata": {
        "colab": {
          "base_uri": "https://localhost:8080/"
        },
        "id": "XyWTAVSDhHbs",
        "outputId": "48a871a5-cbcb-4f0b-f80c-27828dc53ad8"
      },
      "execution_count": 70,
      "outputs": [
        {
          "output_type": "stream",
          "name": "stdout",
          "text": [
            "tensor([[1, 1, 1, 1],\n",
            "        [1, 1, 1, 1],\n",
            "        [1, 1, 1, 1]], dtype=torch.int32)\n"
          ]
        }
      ]
    },
    {
      "cell_type": "code",
      "source": [
        "zero_to_ten = torch.arange(start=0, end=10, step=1)\n",
        "zero_to_ten"
      ],
      "metadata": {
        "colab": {
          "base_uri": "https://localhost:8080/"
        },
        "id": "tOQ5UaMXT0Zz",
        "outputId": "bb50b50d-94d1-4843-f8d9-44f995429f71"
      },
      "execution_count": 75,
      "outputs": [
        {
          "output_type": "execute_result",
          "data": {
            "text/plain": [
              "tensor([0, 1, 2, 3, 4, 5, 6, 7, 8, 9])"
            ]
          },
          "metadata": {},
          "execution_count": 75
        }
      ]
    },
    {
      "cell_type": "code",
      "source": [
        "zeros_like = torch.zeros_like(input=zero_to_ten)\n",
        "ones_like = torch.ones_like(input=zero_to_ten)\n",
        "zeros_like,ones_like"
      ],
      "metadata": {
        "colab": {
          "base_uri": "https://localhost:8080/"
        },
        "id": "H-7Mcq-3T0gK",
        "outputId": "7eadb9a1-f408-4141-9b82-bec063bedcbe"
      },
      "execution_count": 76,
      "outputs": [
        {
          "output_type": "execute_result",
          "data": {
            "text/plain": [
              "(tensor([0, 0, 0, 0, 0, 0, 0, 0, 0, 0]),\n",
              " tensor([1, 1, 1, 1, 1, 1, 1, 1, 1, 1]))"
            ]
          },
          "metadata": {},
          "execution_count": 76
        }
      ]
    },
    {
      "cell_type": "code",
      "source": [
        "zero_to_ten = torch.arange(start=0.1, end=10.1, step=1)\n",
        "zero_to_ten"
      ],
      "metadata": {
        "colab": {
          "base_uri": "https://localhost:8080/"
        },
        "id": "Uv2BYsiHiCov",
        "outputId": "2f9b07a8-df23-44d5-b95f-79b572f7f92f"
      },
      "execution_count": 77,
      "outputs": [
        {
          "output_type": "execute_result",
          "data": {
            "text/plain": [
              "tensor([0.1000, 1.1000, 2.1000, 3.1000, 4.1000, 5.1000, 6.1000, 7.1000, 8.1000,\n",
              "        9.1000])"
            ]
          },
          "metadata": {},
          "execution_count": 77
        }
      ]
    },
    {
      "cell_type": "code",
      "source": [
        "zeros_like = torch.zeros_like(input=zero_to_ten)\n",
        "ones_like = torch.ones_like(input=zero_to_ten)\n",
        "zeros_like,ones_like"
      ],
      "metadata": {
        "colab": {
          "base_uri": "https://localhost:8080/"
        },
        "id": "JZkvj44siCqA",
        "outputId": "e0a973a4-71a7-4643-f7cc-b11989c4660c"
      },
      "execution_count": 78,
      "outputs": [
        {
          "output_type": "execute_result",
          "data": {
            "text/plain": [
              "(tensor([0., 0., 0., 0., 0., 0., 0., 0., 0., 0.]),\n",
              " tensor([1., 1., 1., 1., 1., 1., 1., 1., 1., 1.]))"
            ]
          },
          "metadata": {},
          "execution_count": 78
        }
      ]
    },
    {
      "cell_type": "code",
      "source": [
        "tensor=torch.tensor([1,2,3])\n",
        "tensor+=10\n",
        "print(tensor)"
      ],
      "metadata": {
        "colab": {
          "base_uri": "https://localhost:8080/"
        },
        "id": "QTVJ-al-iCwF",
        "outputId": "8f45ff48-3309-4477-8591-e0bd6a7e3fa0"
      },
      "execution_count": 83,
      "outputs": [
        {
          "output_type": "stream",
          "name": "stdout",
          "text": [
            "tensor([11, 12, 13])\n"
          ]
        }
      ]
    },
    {
      "cell_type": "code",
      "source": [
        "print(tensor, \"*\", tensor)\n",
        "print(\"Equals:\", tensor * tensor)\n"
      ],
      "metadata": {
        "colab": {
          "base_uri": "https://localhost:8080/"
        },
        "id": "Mt9MOqygiCxY",
        "outputId": "a6be7d60-48ee-418e-90bf-282d3a32cb4a"
      },
      "execution_count": 81,
      "outputs": [
        {
          "output_type": "stream",
          "name": "stdout",
          "text": [
            "tensor([11, 12, 13]) * tensor([11, 12, 13])\n",
            "Equals: tensor([121, 144, 169])\n"
          ]
        }
      ]
    },
    {
      "cell_type": "code",
      "source": [
        "import torch\n",
        "\n",
        "torch.manual_seed(42)  # Set seed\n",
        "\n",
        "# Generate a random tensor\n",
        "tensor1 = torch.rand(3)\n",
        "print(tensor1)\n",
        "\n",
        "# Set the seed again and generate another tensor\n",
        "torch.manual_seed(42)\n",
        "tensor2 = torch.rand(3)\n",
        "print(tensor2)\n",
        "\n",
        "# Both tensors will be identical\n",
        "assert torch.equal(tensor1, tensor2)"
      ],
      "metadata": {
        "colab": {
          "base_uri": "https://localhost:8080/"
        },
        "id": "O5i8jI_-iC3C",
        "outputId": "d5875252-1b55-49fe-a02e-d0a37ee99b24"
      },
      "execution_count": 89,
      "outputs": [
        {
          "output_type": "stream",
          "name": "stdout",
          "text": [
            "tensor([0.8823, 0.9150, 0.3829])\n",
            "tensor([0.8823, 0.9150, 0.3829])\n"
          ]
        }
      ]
    },
    {
      "cell_type": "code",
      "source": [
        "x_stacked_tensor = torch.stack([tensor, tensor, tensor, tensor], dim=1)\n",
        "x_stacked_tensor\n"
      ],
      "metadata": {
        "colab": {
          "base_uri": "https://localhost:8080/"
        },
        "id": "qLvxKQgtT0ht",
        "outputId": "b2d20a3b-bc38-4d25-f18d-73f2bd84e652"
      },
      "execution_count": 96,
      "outputs": [
        {
          "output_type": "execute_result",
          "data": {
            "text/plain": [
              "tensor([[11, 11, 11, 11],\n",
              "        [12, 12, 12, 12],\n",
              "        [13, 13, 13, 13]])"
            ]
          },
          "metadata": {},
          "execution_count": 96
        }
      ]
    },
    {
      "cell_type": "code",
      "source": [],
      "metadata": {
        "id": "EWuBIfR5Mk3-"
      },
      "execution_count": 59,
      "outputs": []
    }
  ]
}