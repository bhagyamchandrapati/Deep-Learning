{
  "nbformat": 4,
  "nbformat_minor": 0,
  "metadata": {
    "colab": {
      "provenance": [],
      "authorship_tag": "ABX9TyMRYtKW6yuhjXh4zLKLoLaM"
    },
    "kernelspec": {
      "name": "python3",
      "display_name": "Python 3"
    },
    "language_info": {
      "name": "python"
    }
  },
  "cells": [
    {
      "cell_type": "code",
      "source": [
        "!rm -rf /content/train/class_2/.ipynb_checkpoints"
      ],
      "metadata": {
        "id": "G-AT4njohuPj"
      },
      "execution_count": null,
      "outputs": []
    },
    {
      "cell_type": "code",
      "source": [
        "import torchvision\n",
        "from torchvision import transforms\n",
        "train_data_path = \"/content/train\"\n",
        "transforms = transforms.Compose([\n",
        "    transforms.Resize(64),\n",
        "    transforms.ToTensor(),\n",
        "    transforms.Normalize(mean=[0.485,0.456,0.406],std=[0.229,0.224,0.225])\n",
        "])\n",
        "train_data = torchvision.datasets.ImageFolder(root=train_data_path,transform=transforms)\n",
        "#train_loader = torch.utils.data.DataLoader(train_data,batch_size=32,shuffle=True)\n",
        "print(train_data)"
      ],
      "metadata": {
        "colab": {
          "base_uri": "https://localhost:8080/"
        },
        "id": "cS40li3sh2a6",
        "outputId": "103e71fe-c892-4e54-e88b-d781b3f658c1"
      },
      "execution_count": null,
      "outputs": [
        {
          "output_type": "stream",
          "name": "stdout",
          "text": [
            "Dataset ImageFolder\n",
            "    Number of datapoints: 4\n",
            "    Root location: /content/train\n",
            "    StandardTransform\n",
            "Transform: Compose(\n",
            "               Resize(size=64, interpolation=bilinear, max_size=None, antialias=True)\n",
            "               ToTensor()\n",
            "               Normalize(mean=[0.485, 0.456, 0.406], std=[0.229, 0.224, 0.225])\n",
            "           )\n"
          ]
        }
      ]
    },
    {
      "cell_type": "code",
      "source": [
        "val_data_path = \"/content/val\"\n",
        "!rm -rf /content/val/.ipynb_checkpoints\n",
        "val_data = torchvision.datasets.ImageFolder(root=val_data_path,transform=transforms)\n",
        "#val_loader = torch.utils.data.DataLoader(val_data,batch_size=32,shuffle=True)"
      ],
      "metadata": {
        "id": "selbDWYxwTyL"
      },
      "execution_count": null,
      "outputs": []
    },
    {
      "cell_type": "code",
      "source": [
        "test_data_path = \"/content/test\"\n",
        "!rm -rf /content/test/.ipynb_checkpoints\n",
        "test_data = torchvision.datasets.ImageFolder(root=test_data_path,transform=transforms)\n",
        "#test_loader = data.DataLoader(test_data,batch_size=32)"
      ],
      "metadata": {
        "id": "j4yxCnM4wars"
      },
      "execution_count": null,
      "outputs": []
    },
    {
      "cell_type": "code",
      "source": [
        "#creating deep neuralnetwork\n",
        "import torch.nn as nn\n",
        "import torch.nn.functional as F\n",
        "class SimpleNet(nn.Module):\n",
        "  def __init__(self):\n",
        "    super(SimpleNet,self).__init__()\n",
        "    self.fc1 = nn.Linear(12288,84)\n",
        "    self.fc2 = nn.Linear(84,50)\n",
        "    self.fc3 = nn.Linear(50,2)\n",
        "  def forward(self,x):\n",
        "    x = x.view(-1,12288)\n",
        "    x = F.relu(self.fc1(x))\n",
        "    x = F.relu(self.fc2(x))\n",
        "    x = self.fc3(x)\n",
        "    return x\n",
        "simplenet = SimpleNet()"
      ],
      "metadata": {
        "id": "vN3ldvfRwTzr"
      },
      "execution_count": null,
      "outputs": []
    },
    {
      "cell_type": "code",
      "source": [],
      "metadata": {
        "id": "kXIuqdFewT60"
      },
      "execution_count": null,
      "outputs": []
    },
    {
      "cell_type": "code",
      "source": [],
      "metadata": {
        "id": "-sT0qv_bwT8H"
      },
      "execution_count": null,
      "outputs": []
    },
    {
      "cell_type": "code",
      "source": [],
      "metadata": {
        "id": "0T1PWDGnwUBh"
      },
      "execution_count": null,
      "outputs": []
    },
    {
      "cell_type": "code",
      "source": [],
      "metadata": {
        "id": "EkOsSrBWwUDF"
      },
      "execution_count": null,
      "outputs": []
    }
  ]
}